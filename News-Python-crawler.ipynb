{
 "cells": [
  {
   "cell_type": "code",
   "execution_count": 41,
   "metadata": {},
   "outputs": [],
   "source": [
    "import requests\n",
    "from bs4 import BeautifulSoup\n",
    "import pymysql\n",
    "import pandas as pd"
   ]
  },
  {
   "cell_type": "code",
   "execution_count": 42,
   "metadata": {},
   "outputs": [],
   "source": [
    "data = requests.get('https://www.youm7.com/Section/اقتصاد-وبورصة/297/1').text"
   ]
  },
  {
   "cell_type": "code",
   "execution_count": 43,
   "metadata": {},
   "outputs": [
    {
     "data": {
      "text/plain": [
       "'اقتصاد وبورصة - اليوم السابع'"
      ]
     },
     "execution_count": 43,
     "metadata": {},
     "output_type": "execute_result"
    }
   ],
   "source": [
    "soup = BeautifulSoup(data)\n",
    "soup.title.text"
   ]
  },
  {
   "cell_type": "code",
   "execution_count": 44,
   "metadata": {},
   "outputs": [],
   "source": [
    "def Elyom7_details(url):\n",
    "    data      = requests.get(url).text    \n",
    "    soup      = BeautifulSoup(data)\n",
    "    title     = soup.title.text\n",
    "    image     = soup.find(\"div\",attrs={'class':\"img-cont\"}).find('img')['src']\n",
    "    keywords  = soup.find('meta',attrs={'name':'keywords'})['content']\n",
    "    writer    = soup.find('div',attrs={'class':'articleCont'}).find('span').text\n",
    "    article   = soup.find('div',attrs={'id':'articleBody'})\n",
    "    body      = []\n",
    "    for p in article.findAll('p'):\n",
    "        if p.text != '':\n",
    "            body.append(p.text)\n",
    "    body      = ' '.join(body)\n",
    "    return (url,title,keywords,image,writer,body)"
   ]
  },
  {
   "cell_type": "code",
   "execution_count": 45,
   "metadata": {},
   "outputs": [
    {
     "data": {
      "text/plain": [
       "(' https://www.youm7.com/story/2021/5/3/193-مليون-جنيه-تراجع-بواردات-أسماك-الرنجة-بسبب-شهر-رمضان/5302258',\n",
       " '193 مليون جنيه تراجع بواردات أسماك الرنجة بسبب شهر رمضان - اليوم السابع',\n",
       " 'واردات مصر,الرنجة,شم النسيم,اخبار الاقتصاد',\n",
       " 'https://img.youm7.com/large/201906021116461646.jpg',\n",
       " 'كتب: مدحت عادل',\n",
       " '\\r\\n\\tيحتفل المصريون، غدا الاثنين بعيد شم النسيم، والذي يشهد عادة إقبالا كبيرا على استهلاك أسماك الرنجة، والتي تعتبر أحد أهم مظاهر الاحتفال بهذا العيد من كل عام. \\r\\n\\tويتزامن الاحتفال بشم النسيم هذا العام خلال شهر رمضان، وهو ما ألقى بظلاله على واردات مصر الشهرية من الأسماك وخاصة الرنجة، حيث تتحرك واردات مصر من الرنجة ارتفاعا وانخفاضا تبعا لاحتياجات السوق المحلية قبلها بثلاثة أشهر على الأقل، وفي هذا الإطار يرصد الجهاز المركزي للتعبئة العامة والإحصاء، تراجع الواردات المصرية من الرنجة في شهر ديسمبر الماضي، فيما لم تسجل نشرة التجارة الشهرية التابعة للجهاز أية واردات للرنجة، ضمن قائمة أهم واردات السلع الغذائية في آخر إصدار لها في شهر يناير الماضي. \\r\\n\\tوتراجعت واردات الرنجة، لتصل إلى 189 مليون جنيه \"11 مليون و815 ألف دولار\" – 16 جنيه متوسط سعر الدولار أمام الجنيه- في شهر ديسمبر الماضي، وذلك لأسماك الرنجة أنواع \"كلوبيا هارنجس، وكولوبيا بالاسى\" مجمدة باستثناء الأكباد والبيض، مقابل 382 مليون و144 ألف جنيه \"23 مليون و884 ألف دولار\"، تراجع بلغت قيمته 193 مليون و104 ألف جنيه \"12 مليون و69 ألف دولار\". \\r\\n\\tوتوضح البيانات، أن واردات الرنجة جاءت ضمن أهم واردات السلع الغذائية في ذلك الشهر، وبلغت قيمتها الاجمالية نحو 9 مليار و784 مليون جنيه \"611 مليون و516 ألف دولار\"، مقابل 11 مليار و603 مليون جنيه \"725 مليون و244 ألف دولار\"، بتراجع بلغ مليار و819 مليون جنيه \"113 مليون و728 ألف دولار\". \\r\\n\\tوأصدر عدد من المحافظين، قرارات بإغلاق الحدائق والمتنزهات خلال إجازة عيد شم النسيم، وذلك في إطار الإجراءات الاحترازية التي أقرتها الدولة للحد من انتشار فيروس كورونا المستجد.')"
      ]
     },
     "execution_count": 45,
     "metadata": {},
     "output_type": "execute_result"
    }
   ],
   "source": [
    "Elyom7_details(\" https://www.youm7.com/story/2021/5/3/193-مليون-جنيه-تراجع-بواردات-أسماك-الرنجة-بسبب-شهر-رمضان/5302258\")"
   ]
  },
  {
   "cell_type": "code",
   "execution_count": 6,
   "metadata": {},
   "outputs": [
    {
     "data": {
      "text/plain": [
       "'اقتصاد وبورصة - اليوم السابع'"
      ]
     },
     "execution_count": 6,
     "metadata": {},
     "output_type": "execute_result"
    }
   ],
   "source": [
    "soup = BeautifulSoup(data)\n",
    "soup.title.text"
   ]
  },
  {
   "cell_type": "code",
   "execution_count": 109,
   "metadata": {},
   "outputs": [],
   "source": [
    "def get_Elyom7_article_links(page):\n",
    "    data = requests.get('https://www.youm7.com/Section/297/'+str(page)+'/اقتصاد-وبورصة').text   \n",
    "    soup = BeautifulSoup(data) \n",
    "    \n",
    "\n",
    "    for link in soup.find('div',attrs={'class' :'row news-content'}).findAll('a'):\n",
    "        try:\n",
    "            links = [\"https://www.youm7.com/\"+link.get('href')]\n",
    "        except:\n",
    "            pass\n",
    "        #print(links)\n",
    "        \n",
    "    return str(page)+\" ===> Done\"   \n",
    "  "
   ]
  },
  {
   "cell_type": "code",
   "execution_count": 110,
   "metadata": {},
   "outputs": [
    {
     "data": {
      "text/plain": [
       "'1 ===> Done'"
      ]
     },
     "execution_count": 110,
     "metadata": {},
     "output_type": "execute_result"
    }
   ],
   "source": [
    "get_Elyom7_article_links(1)"
   ]
  },
  {
   "cell_type": "code",
   "execution_count": 48,
   "metadata": {},
   "outputs": [
    {
     "data": {
      "text/plain": [
       "('https://www.youm7.com/story/2021/5/4/تعرف-على-سعر-الدولار-مع-أول-يوم-عمل-للبنوك-بعد/5306181',\n",
       " 'تعرف على سعر الدولار مع أول يوم عمل للبنوك بعد الإجازة - اليوم السابع',\n",
       " 'أسعار الدولار,سعر الدولار اليوم,أسعار الدولار اليوم,سعر الدولار اليوم فى مصر,الدولار اليوم,الدولار',\n",
       " 'https://img.youm7.com/large/32016131843503491.jpg',\n",
       " 'كتبت : سماح حمدى',\n",
       " '\\r\\n\\t\\t15.71 جنيه للبيع. \\n \\r\\n\\t\\t15.71 جنيه للبيع. \\n')"
      ]
     },
     "execution_count": 48,
     "metadata": {},
     "output_type": "execute_result"
    }
   ],
   "source": [
    "data = Elyom7_details('https://www.youm7.com/story/2021/5/4/تعرف-على-سعر-الدولار-مع-أول-يوم-عمل-للبنوك-بعد/5306181')\n",
    "data"
   ]
  },
  {
   "cell_type": "code",
   "execution_count": 111,
   "metadata": {},
   "outputs": [],
   "source": [
    "conn = pymysql.connect(host='localhost',port=3306,user='root',password='12345678')\n",
    "cur  = conn.cursor()\n",
    "query = \"CREATE DATABASE IF NOT EXISTS crawler;\"\n",
    "cur.execute(query)\n",
    "query = \"\"\"\n",
    "            create table  IF NOT EXISTS crawler.Elyom7(\n",
    "                id int primary key auto_increment,\n",
    "                url text,\n",
    "                title text,\n",
    "                keywords text,\n",
    "                image text,\n",
    "                writer text,\n",
    "                body text\n",
    "            ) DEFAULT CHARSET=utf8 DEFAULT COLLATE utf8_general_ci;\n",
    "        \"\"\"\n",
    "cur.execute(query)\n",
    "conn.commit()"
   ]
  },
  {
   "cell_type": "code",
   "execution_count": 112,
   "metadata": {},
   "outputs": [],
   "source": [
    "def save_db(url,title,keywords,image,writer,body):\n",
    "    query = \"\"\"INSERT INTO crawler.Elyom7(url,title,keywords,image,writer,body) VALUES(%s,%s,%s,%s,%s,%s)\"\"\"\n",
    "    val   = (url,title,keywords,image,writer,body)\n",
    "    conn  = pymysql.connect(host='localhost',port=3306,user='root',password='12345678')\n",
    "    cur   = conn.cursor()\n",
    "    cur.execute(query,val)\n",
    "    conn.commit()\n",
    "    conn.close()\n",
    "    return \"Done\""
   ]
  },
  {
   "cell_type": "code",
   "execution_count": 113,
   "metadata": {},
   "outputs": [
    {
     "data": {
      "text/plain": [
       "'1 ===> Done'"
      ]
     },
     "execution_count": 113,
     "metadata": {},
     "output_type": "execute_result"
    }
   ],
   "source": [
    "get_Elyom7_article_links(1)"
   ]
  },
  {
   "cell_type": "code",
   "execution_count": 114,
   "metadata": {},
   "outputs": [],
   "source": [
    "def get_Elyom7_details(url):\n",
    "    \n",
    "    data      = requests.get(url).text    \n",
    "    soup      = BeautifulSoup(data)\n",
    "    title     = soup.title.text\n",
    "    image     = soup.find(\"div\",attrs={'class':\"img-cont\"}).find('img')['src']\n",
    "    keywords  = soup.find('meta',attrs={'name':'keywords'})['content']\n",
    "    writer    = soup.find('div',attrs={'class':'articleCont'}).find('span').text\n",
    "    article   = soup.find('div',attrs={'id':'articleBody'})\n",
    "    body      = []\n",
    "    for p in article.findAll('p'):\n",
    "        if p.text != '':\n",
    "            body.append(p.text)\n",
    "    body      = ' '.join(body)\n",
    "    save_db(url,title,keywords,image,writer,body)  \n",
    "    return (url,title,keywords,image,writer,body)"
   ]
  },
  {
   "cell_type": "code",
   "execution_count": 115,
   "metadata": {},
   "outputs": [
    {
     "name": "stdout",
     "output_type": "stream",
     "text": [
      "5 ===> Done\n",
      "6 ===> Done\n",
      "7 ===> Done\n",
      "8 ===> Done\n",
      "9 ===> Done\n",
      "10 ===> Done\n"
     ]
    }
   ],
   "source": [
    "for i in range(5,11):\n",
    "    print(get_Elyom7_article_links(i))"
   ]
  },
  {
   "cell_type": "code",
   "execution_count": 116,
   "metadata": {},
   "outputs": [
    {
     "data": {
      "text/html": [
       "<div>\n",
       "<style scoped>\n",
       "    .dataframe tbody tr th:only-of-type {\n",
       "        vertical-align: middle;\n",
       "    }\n",
       "\n",
       "    .dataframe tbody tr th {\n",
       "        vertical-align: top;\n",
       "    }\n",
       "\n",
       "    .dataframe thead th {\n",
       "        text-align: right;\n",
       "    }\n",
       "</style>\n",
       "<table border=\"1\" class=\"dataframe\">\n",
       "  <thead>\n",
       "    <tr style=\"text-align: right;\">\n",
       "      <th></th>\n",
       "      <th>id</th>\n",
       "      <th>url</th>\n",
       "      <th>title</th>\n",
       "      <th>keywords</th>\n",
       "      <th>image</th>\n",
       "      <th>writer</th>\n",
       "      <th>body</th>\n",
       "    </tr>\n",
       "  </thead>\n",
       "  <tbody>\n",
       "    <tr>\n",
       "      <th>0</th>\n",
       "      <td>1</td>\n",
       "      <td>https://www.youm7.com/story/2021/5/3/193-مليو...</td>\n",
       "      <td>193 مليون جنيه تراجع بواردات أسماك الرنجة بسبب...</td>\n",
       "      <td>واردات مصر,الرنجة,شم النسيم,اخبار الاقتصاد</td>\n",
       "      <td>https://img.youm7.com/large/201906021116461646...</td>\n",
       "      <td>كتب: مدحت عادل</td>\n",
       "      <td>\\r\\n\\tيحتفل المصريون، غدا الاثنين بعيد شم النس...</td>\n",
       "    </tr>\n",
       "    <tr>\n",
       "      <th>1</th>\n",
       "      <td>2</td>\n",
       "      <td>https://www.youm7.com/story/2021/5/3/193-مليو...</td>\n",
       "      <td>193 مليون جنيه تراجع بواردات أسماك الرنجة بسبب...</td>\n",
       "      <td>واردات مصر,الرنجة,شم النسيم,اخبار الاقتصاد</td>\n",
       "      <td>https://img.youm7.com/large/201906021116461646...</td>\n",
       "      <td>كتب: مدحت عادل</td>\n",
       "      <td>\\r\\n\\tيحتفل المصريون، غدا الاثنين بعيد شم النس...</td>\n",
       "    </tr>\n",
       "    <tr>\n",
       "      <th>2</th>\n",
       "      <td>3</td>\n",
       "      <td>https://www.youm7.com/story/2021/5/3/193-مليو...</td>\n",
       "      <td>193 مليون جنيه تراجع بواردات أسماك الرنجة بسبب...</td>\n",
       "      <td>واردات مصر,الرنجة,شم النسيم,اخبار الاقتصاد</td>\n",
       "      <td>https://img.youm7.com/large/201906021116461646...</td>\n",
       "      <td>كتب: مدحت عادل</td>\n",
       "      <td>\\r\\n\\tيحتفل المصريون، غدا الاثنين بعيد شم النس...</td>\n",
       "    </tr>\n",
       "    <tr>\n",
       "      <th>3</th>\n",
       "      <td>4</td>\n",
       "      <td>https://www.youm7.com/story/2021/5/3/193-مليو...</td>\n",
       "      <td>193 مليون جنيه تراجع بواردات أسماك الرنجة بسبب...</td>\n",
       "      <td>واردات مصر,الرنجة,شم النسيم,اخبار الاقتصاد</td>\n",
       "      <td>https://img.youm7.com/large/201906021116461646...</td>\n",
       "      <td>كتب: مدحت عادل</td>\n",
       "      <td>\\r\\n\\tيحتفل المصريون، غدا الاثنين بعيد شم النس...</td>\n",
       "    </tr>\n",
       "    <tr>\n",
       "      <th>4</th>\n",
       "      <td>5</td>\n",
       "      <td>https://www.youm7.com/story/2021/5/3/193-مليو...</td>\n",
       "      <td>193 مليون جنيه تراجع بواردات أسماك الرنجة بسبب...</td>\n",
       "      <td>واردات مصر,الرنجة,شم النسيم,اخبار الاقتصاد</td>\n",
       "      <td>https://img.youm7.com/large/201906021116461646...</td>\n",
       "      <td>كتب: مدحت عادل</td>\n",
       "      <td>\\r\\n\\tيحتفل المصريون، غدا الاثنين بعيد شم النس...</td>\n",
       "    </tr>\n",
       "  </tbody>\n",
       "</table>\n",
       "</div>"
      ],
      "text/plain": [
       "   id                                                url  \\\n",
       "0   1   https://www.youm7.com/story/2021/5/3/193-مليو...   \n",
       "1   2   https://www.youm7.com/story/2021/5/3/193-مليو...   \n",
       "2   3   https://www.youm7.com/story/2021/5/3/193-مليو...   \n",
       "3   4   https://www.youm7.com/story/2021/5/3/193-مليو...   \n",
       "4   5   https://www.youm7.com/story/2021/5/3/193-مليو...   \n",
       "\n",
       "                                               title  \\\n",
       "0  193 مليون جنيه تراجع بواردات أسماك الرنجة بسبب...   \n",
       "1  193 مليون جنيه تراجع بواردات أسماك الرنجة بسبب...   \n",
       "2  193 مليون جنيه تراجع بواردات أسماك الرنجة بسبب...   \n",
       "3  193 مليون جنيه تراجع بواردات أسماك الرنجة بسبب...   \n",
       "4  193 مليون جنيه تراجع بواردات أسماك الرنجة بسبب...   \n",
       "\n",
       "                                     keywords  \\\n",
       "0  واردات مصر,الرنجة,شم النسيم,اخبار الاقتصاد   \n",
       "1  واردات مصر,الرنجة,شم النسيم,اخبار الاقتصاد   \n",
       "2  واردات مصر,الرنجة,شم النسيم,اخبار الاقتصاد   \n",
       "3  واردات مصر,الرنجة,شم النسيم,اخبار الاقتصاد   \n",
       "4  واردات مصر,الرنجة,شم النسيم,اخبار الاقتصاد   \n",
       "\n",
       "                                               image          writer  \\\n",
       "0  https://img.youm7.com/large/201906021116461646...  كتب: مدحت عادل   \n",
       "1  https://img.youm7.com/large/201906021116461646...  كتب: مدحت عادل   \n",
       "2  https://img.youm7.com/large/201906021116461646...  كتب: مدحت عادل   \n",
       "3  https://img.youm7.com/large/201906021116461646...  كتب: مدحت عادل   \n",
       "4  https://img.youm7.com/large/201906021116461646...  كتب: مدحت عادل   \n",
       "\n",
       "                                                body  \n",
       "0  \\r\\n\\tيحتفل المصريون، غدا الاثنين بعيد شم النس...  \n",
       "1  \\r\\n\\tيحتفل المصريون، غدا الاثنين بعيد شم النس...  \n",
       "2  \\r\\n\\tيحتفل المصريون، غدا الاثنين بعيد شم النس...  \n",
       "3  \\r\\n\\tيحتفل المصريون، غدا الاثنين بعيد شم النس...  \n",
       "4  \\r\\n\\tيحتفل المصريون، غدا الاثنين بعيد شم النس...  "
      ]
     },
     "execution_count": 116,
     "metadata": {},
     "output_type": "execute_result"
    }
   ],
   "source": [
    "import pandas as pd\n",
    "conn = pymysql.connect(host='localhost',port=3306,user='root',password='12345678')\n",
    "df = pd.read_sql_query(\"SELECT * FROM crawler.Elyom7\",conn)\n",
    "df.head()\n"
   ]
  },
  {
   "cell_type": "code",
   "execution_count": null,
   "metadata": {},
   "outputs": [],
   "source": []
  },
  {
   "cell_type": "code",
   "execution_count": null,
   "metadata": {},
   "outputs": [],
   "source": []
  }
 ],
 "metadata": {
  "kernelspec": {
   "display_name": "Python 3",
   "language": "python",
   "name": "python3"
  },
  "language_info": {
   "codemirror_mode": {
    "name": "ipython",
    "version": 3
   },
   "file_extension": ".py",
   "mimetype": "text/x-python",
   "name": "python",
   "nbconvert_exporter": "python",
   "pygments_lexer": "ipython3",
   "version": "3.8.5"
  }
 },
 "nbformat": 4,
 "nbformat_minor": 4
}
